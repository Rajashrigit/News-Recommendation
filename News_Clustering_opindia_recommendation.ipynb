{
 "cells": [
  {
   "cell_type": "code",
   "execution_count": 1,
   "id": "7760a25d",
   "metadata": {},
   "outputs": [],
   "source": [
    "import requests\n",
    "from bs4 import BeautifulSoup\n",
    "url = \"https://www.opindia.com/latest-news/\"\n",
    "data = requests.get(url)"
   ]
  },
  {
   "cell_type": "code",
   "execution_count": 2,
   "id": "0136acf4",
   "metadata": {},
   "outputs": [
    {
     "name": "stdout",
     "output_type": "stream",
     "text": [
      "Requirement already satisfied: nltk in c:\\programdata\\anaconda3\\lib\\site-packages (3.6.5)\n",
      "Requirement already satisfied: click in c:\\programdata\\anaconda3\\lib\\site-packages (from nltk) (8.0.3)\n",
      "Requirement already satisfied: joblib in c:\\programdata\\anaconda3\\lib\\site-packages (from nltk) (1.1.0)\n",
      "Requirement already satisfied: regex>=2021.8.3 in c:\\programdata\\anaconda3\\lib\\site-packages (from nltk) (2021.8.3)\n",
      "Requirement already satisfied: tqdm in c:\\programdata\\anaconda3\\lib\\site-packages (from nltk) (4.62.3)\n",
      "Requirement already satisfied: colorama in c:\\programdata\\anaconda3\\lib\\site-packages (from click->nltk) (0.4.4)\n",
      "Note: you may need to restart the kernel to use updated packages.\n"
     ]
    }
   ],
   "source": [
    "pip install nltk\n"
   ]
  },
  {
   "cell_type": "code",
   "execution_count": 3,
   "id": "522cf079",
   "metadata": {},
   "outputs": [],
   "source": [
    "import pandas as pd\n"
   ]
  },
  {
   "cell_type": "code",
   "execution_count": 4,
   "id": "f1c09a89",
   "metadata": {},
   "outputs": [
    {
     "data": {
      "text/plain": [
       "<Response [200]>"
      ]
     },
     "execution_count": 4,
     "metadata": {},
     "output_type": "execute_result"
    }
   ],
   "source": [
    "data"
   ]
  },
  {
   "cell_type": "code",
   "execution_count": 5,
   "id": "e50b6400",
   "metadata": {},
   "outputs": [],
   "source": [
    "soup = BeautifulSoup(data.content,\"html.parser\")\n"
   ]
  },
  {
   "cell_type": "code",
   "execution_count": 6,
   "id": "b309a8c6",
   "metadata": {},
   "outputs": [],
   "source": [
    "def fetch_article(url):\n",
    "    data = requests.get(url)\n",
    "    soup = BeautifulSoup(data.content,\"html.parser\")\n",
    "    articles = []\n",
    "    for i in soup.find_all(\"h3\",class_ = [\"entry-title td-module-title\"]):\n",
    "        articles.append(i.find('a')['title'])     \n",
    "    return articles"
   ]
  },
  {
   "cell_type": "code",
   "execution_count": 7,
   "id": "40969a0e",
   "metadata": {},
   "outputs": [],
   "source": [
    "urllist = []\n",
    "for i in range(2,21,1):\n",
    "    url = \"https://www.opindia.com/latest-news/page/\" + str(i) + \"/\"\n",
    "    urllist.append(url)\n"
   ]
  },
  {
   "cell_type": "code",
   "execution_count": 8,
   "id": "cf664230",
   "metadata": {},
   "outputs": [],
   "source": [
    "all_articles = []\n",
    "for i in urllist:\n",
    "    all_articles.extend(fetch_article(i))"
   ]
  },
  {
   "cell_type": "code",
   "execution_count": 9,
   "id": "330a0d08",
   "metadata": {},
   "outputs": [],
   "source": [
    "p_art =[]\n",
    "for i in all_articles:\n",
    "    q = i.upper()\n",
    "    import re\n",
    "    q = re.sub(\"[^A-Z0-9 ]\",\"\",q)\n",
    "    from nltk.stem import PorterStemmer\n",
    "    tk_q = q.split(\" \")\n",
    "    sent = \"\"\n",
    "    for j in tk_q:\n",
    "        ps = PorterStemmer()\n",
    "        sent = sent + \" \" + ps.stem(j).upper()\n",
    "    p_art.append(sent)\n"
   ]
  },
  {
   "cell_type": "code",
   "execution_count": 10,
   "id": "5010285a",
   "metadata": {},
   "outputs": [],
   "source": [
    "from sklearn.feature_extraction.text import TfidfVectorizer\n",
    "tf = TfidfVectorizer()\n",
    "A = tf.fit_transform(p_art).toarray()"
   ]
  },
  {
   "cell_type": "code",
   "execution_count": 11,
   "id": "041bd096",
   "metadata": {},
   "outputs": [],
   "source": [
    "from sklearn.cluster import KMeans\n",
    "km = KMeans(n_clusters=5)\n",
    "cl_res = km.fit(A)"
   ]
  },
  {
   "cell_type": "code",
   "execution_count": 12,
   "id": "b6f0681a",
   "metadata": {},
   "outputs": [
    {
     "data": {
      "text/plain": [
       "array([0, 0, 3, ..., 1, 1, 1])"
      ]
     },
     "execution_count": 12,
     "metadata": {},
     "output_type": "execute_result"
    }
   ],
   "source": [
    "cl_res.labels_\n"
   ]
  },
  {
   "cell_type": "code",
   "execution_count": 13,
   "id": "b7df85f5",
   "metadata": {},
   "outputs": [],
   "source": [
    "Q = pd.DataFrame(p_art,columns=[\"Article\"])\n",
    "Q['Cluster']=cl_res.labels_"
   ]
  },
  {
   "cell_type": "code",
   "execution_count": 18,
   "id": "183c4e62",
   "metadata": {},
   "outputs": [
    {
     "data": {
      "text/html": [
       "<div>\n",
       "<style scoped>\n",
       "    .dataframe tbody tr th:only-of-type {\n",
       "        vertical-align: middle;\n",
       "    }\n",
       "\n",
       "    .dataframe tbody tr th {\n",
       "        vertical-align: top;\n",
       "    }\n",
       "\n",
       "    .dataframe thead th {\n",
       "        text-align: right;\n",
       "    }\n",
       "</style>\n",
       "<table border=\"1\" class=\"dataframe\">\n",
       "  <thead>\n",
       "    <tr style=\"text-align: right;\">\n",
       "      <th></th>\n",
       "      <th>Article</th>\n",
       "      <th>Cluster</th>\n",
       "      <th>category</th>\n",
       "    </tr>\n",
       "  </thead>\n",
       "  <tbody>\n",
       "    <tr>\n",
       "      <th>0</th>\n",
       "      <td>EXAMNESTI INDIA HEAD TRI TO PAINT GUJARATI CO...</td>\n",
       "      <td>0</td>\n",
       "      <td>geopolitics</td>\n",
       "    </tr>\n",
       "    <tr>\n",
       "      <th>1</th>\n",
       "      <td>IS IT TRUE SMRITI IRANI LASH OUT AT ARVIND KE...</td>\n",
       "      <td>0</td>\n",
       "      <td>geopolitics</td>\n",
       "    </tr>\n",
       "    <tr>\n",
       "      <th>2</th>\n",
       "      <td>TAMIL NADU BJP CHIEF K ANNAMALAI 5000 OTHER B...</td>\n",
       "      <td>3</td>\n",
       "      <td>sports</td>\n",
       "    </tr>\n",
       "    <tr>\n",
       "      <th>3</th>\n",
       "      <td>HYDERABAD OPEN CHARMINAR MOSQU FOR NAMAZ BHAG...</td>\n",
       "      <td>0</td>\n",
       "      <td>geopolitics</td>\n",
       "    </tr>\n",
       "    <tr>\n",
       "      <th>4</th>\n",
       "      <td>MAHARASHTRA NCP WORKER JOIN ISLAMIST TO OUTRA...</td>\n",
       "      <td>3</td>\n",
       "      <td>sports</td>\n",
       "    </tr>\n",
       "    <tr>\n",
       "      <th>5</th>\n",
       "      <td>EXAMNESTI INDIA HEAD TRI TO PAINT GUJARATI CO...</td>\n",
       "      <td>0</td>\n",
       "      <td>geopolitics</td>\n",
       "    </tr>\n",
       "    <tr>\n",
       "      <th>6</th>\n",
       "      <td>PANCHAYAT STRIKE A CHORD WITH THE INDIAN AUDI...</td>\n",
       "      <td>2</td>\n",
       "      <td>religion</td>\n",
       "    </tr>\n",
       "    <tr>\n",
       "      <th>7</th>\n",
       "      <td>BOLLYWOOD SUPERSTAR NEAR 60 PAIR AGAINST WOME...</td>\n",
       "      <td>2</td>\n",
       "      <td>religion</td>\n",
       "    </tr>\n",
       "    <tr>\n",
       "      <th>8</th>\n",
       "      <td>THREAT TO NUPUR SHARMA ONC AGAIN SHOW HOW IND...</td>\n",
       "      <td>3</td>\n",
       "      <td>sports</td>\n",
       "    </tr>\n",
       "    <tr>\n",
       "      <th>9</th>\n",
       "      <td>THE NEW YORK TIME OUTDO ITSELF IN STUPID SAY ...</td>\n",
       "      <td>4</td>\n",
       "      <td>entertainment</td>\n",
       "    </tr>\n",
       "    <tr>\n",
       "      <th>10</th>\n",
       "      <td>FACT CHECK DOE GANGSTER GOLDI BRAR HAVE A CON...</td>\n",
       "      <td>2</td>\n",
       "      <td>religion</td>\n",
       "    </tr>\n",
       "    <tr>\n",
       "      <th>11</th>\n",
       "      <td>LALLANTOP AND AAJ TAK SPREAD FAKE NEW ABOUT W...</td>\n",
       "      <td>4</td>\n",
       "      <td>entertainment</td>\n",
       "    </tr>\n",
       "    <tr>\n",
       "      <th>12</th>\n",
       "      <td>FACTCHECK IS THE INDIAN FLAG AT WAGAH BORDER ...</td>\n",
       "      <td>1</td>\n",
       "      <td>politics</td>\n",
       "    </tr>\n",
       "    <tr>\n",
       "      <th>13</th>\n",
       "      <td>FACTCHECK DID THE UP GOVT ASK SOME BENEFICIAR...</td>\n",
       "      <td>4</td>\n",
       "      <td>entertainment</td>\n",
       "    </tr>\n",
       "    <tr>\n",
       "      <th>14</th>\n",
       "      <td>TIME OF INDIA GIVE A PLATFORM TO PAEDOPHILIAA...</td>\n",
       "      <td>3</td>\n",
       "      <td>sports</td>\n",
       "    </tr>\n",
       "  </tbody>\n",
       "</table>\n",
       "</div>"
      ],
      "text/plain": [
       "                                              Article  Cluster       category\n",
       "0    EXAMNESTI INDIA HEAD TRI TO PAINT GUJARATI CO...        0    geopolitics\n",
       "1    IS IT TRUE SMRITI IRANI LASH OUT AT ARVIND KE...        0    geopolitics\n",
       "2    TAMIL NADU BJP CHIEF K ANNAMALAI 5000 OTHER B...        3         sports\n",
       "3    HYDERABAD OPEN CHARMINAR MOSQU FOR NAMAZ BHAG...        0    geopolitics\n",
       "4    MAHARASHTRA NCP WORKER JOIN ISLAMIST TO OUTRA...        3         sports\n",
       "5    EXAMNESTI INDIA HEAD TRI TO PAINT GUJARATI CO...        0    geopolitics\n",
       "6    PANCHAYAT STRIKE A CHORD WITH THE INDIAN AUDI...        2       religion\n",
       "7    BOLLYWOOD SUPERSTAR NEAR 60 PAIR AGAINST WOME...        2       religion\n",
       "8    THREAT TO NUPUR SHARMA ONC AGAIN SHOW HOW IND...        3         sports\n",
       "9    THE NEW YORK TIME OUTDO ITSELF IN STUPID SAY ...        4  entertainment\n",
       "10   FACT CHECK DOE GANGSTER GOLDI BRAR HAVE A CON...        2       religion\n",
       "11   LALLANTOP AND AAJ TAK SPREAD FAKE NEW ABOUT W...        4  entertainment\n",
       "12   FACTCHECK IS THE INDIAN FLAG AT WAGAH BORDER ...        1       politics\n",
       "13   FACTCHECK DID THE UP GOVT ASK SOME BENEFICIAR...        4  entertainment\n",
       "14   TIME OF INDIA GIVE A PLATFORM TO PAEDOPHILIAA...        3         sports"
      ]
     },
     "execution_count": 18,
     "metadata": {},
     "output_type": "execute_result"
    }
   ],
   "source": [
    "Q.head(15)\n"
   ]
  },
  {
   "cell_type": "code",
   "execution_count": null,
   "id": "27686c8e",
   "metadata": {},
   "outputs": [],
   "source": []
  },
  {
   "cell_type": "raw",
   "id": "18e1e698",
   "metadata": {},
   "source": [
    "1 --> politics\n",
    "2 --> religion\n",
    "3 --> sports\n",
    "4 --> entertainment\n",
    "0 --> geopolitics"
   ]
  },
  {
   "cell_type": "code",
   "execution_count": null,
   "id": "d0c4e393",
   "metadata": {},
   "outputs": [],
   "source": []
  },
  {
   "cell_type": "code",
   "execution_count": 15,
   "id": "96591ebd",
   "metadata": {},
   "outputs": [],
   "source": [
    "E = {1 : \"politics\",\n",
    "2 : \"religion\",\n",
    "3 : \"sports\",\n",
    "4 : \"entertainment\",\n",
    "0 : \"geopolitics\"}"
   ]
  },
  {
   "cell_type": "code",
   "execution_count": 16,
   "id": "57f4356a",
   "metadata": {},
   "outputs": [],
   "source": [
    "R = []\n",
    "for i in Q.Cluster:\n",
    "    R.append(E[i])\n",
    "\n",
    "Q['category'] = R"
   ]
  },
  {
   "cell_type": "code",
   "execution_count": 17,
   "id": "48233baa",
   "metadata": {},
   "outputs": [
    {
     "data": {
      "text/html": [
       "<div>\n",
       "<style scoped>\n",
       "    .dataframe tbody tr th:only-of-type {\n",
       "        vertical-align: middle;\n",
       "    }\n",
       "\n",
       "    .dataframe tbody tr th {\n",
       "        vertical-align: top;\n",
       "    }\n",
       "\n",
       "    .dataframe thead th {\n",
       "        text-align: right;\n",
       "    }\n",
       "</style>\n",
       "<table border=\"1\" class=\"dataframe\">\n",
       "  <thead>\n",
       "    <tr style=\"text-align: right;\">\n",
       "      <th></th>\n",
       "      <th>Article</th>\n",
       "      <th>Cluster</th>\n",
       "      <th>category</th>\n",
       "    </tr>\n",
       "  </thead>\n",
       "  <tbody>\n",
       "    <tr>\n",
       "      <th>0</th>\n",
       "      <td>EXAMNESTI INDIA HEAD TRI TO PAINT GUJARATI CO...</td>\n",
       "      <td>0</td>\n",
       "      <td>geopolitics</td>\n",
       "    </tr>\n",
       "    <tr>\n",
       "      <th>1</th>\n",
       "      <td>IS IT TRUE SMRITI IRANI LASH OUT AT ARVIND KE...</td>\n",
       "      <td>0</td>\n",
       "      <td>geopolitics</td>\n",
       "    </tr>\n",
       "    <tr>\n",
       "      <th>2</th>\n",
       "      <td>TAMIL NADU BJP CHIEF K ANNAMALAI 5000 OTHER B...</td>\n",
       "      <td>3</td>\n",
       "      <td>sports</td>\n",
       "    </tr>\n",
       "    <tr>\n",
       "      <th>3</th>\n",
       "      <td>HYDERABAD OPEN CHARMINAR MOSQU FOR NAMAZ BHAG...</td>\n",
       "      <td>0</td>\n",
       "      <td>geopolitics</td>\n",
       "    </tr>\n",
       "    <tr>\n",
       "      <th>4</th>\n",
       "      <td>MAHARASHTRA NCP WORKER JOIN ISLAMIST TO OUTRA...</td>\n",
       "      <td>3</td>\n",
       "      <td>sports</td>\n",
       "    </tr>\n",
       "    <tr>\n",
       "      <th>...</th>\n",
       "      <td>...</td>\n",
       "      <td>...</td>\n",
       "      <td>...</td>\n",
       "    </tr>\n",
       "    <tr>\n",
       "      <th>1971</th>\n",
       "      <td>UTTAR PRADESH ACTION EXPECT AGAINST  NISHAD P...</td>\n",
       "      <td>1</td>\n",
       "      <td>politics</td>\n",
       "    </tr>\n",
       "    <tr>\n",
       "      <th>1972</th>\n",
       "      <td>MAHARASHTRA POLIC INSPECTOR UNKNOWINGLI DISRE...</td>\n",
       "      <td>1</td>\n",
       "      <td>politics</td>\n",
       "    </tr>\n",
       "    <tr>\n",
       "      <th>1973</th>\n",
       "      <td>CONGRESS PARTI TARGET MODI GOVT MAKE SIX CLAI...</td>\n",
       "      <td>1</td>\n",
       "      <td>politics</td>\n",
       "    </tr>\n",
       "    <tr>\n",
       "      <th>1974</th>\n",
       "      <td>NCP SUPREMO SHARAD PAWAR SAY SEDIT LAW MUST G...</td>\n",
       "      <td>1</td>\n",
       "      <td>politics</td>\n",
       "    </tr>\n",
       "    <tr>\n",
       "      <th>1975</th>\n",
       "      <td>CAN ARSHDEEP SINGH DEATH BOWL BE INDIA TRUMP ...</td>\n",
       "      <td>1</td>\n",
       "      <td>politics</td>\n",
       "    </tr>\n",
       "  </tbody>\n",
       "</table>\n",
       "<p>1976 rows × 3 columns</p>\n",
       "</div>"
      ],
      "text/plain": [
       "                                                Article  Cluster     category\n",
       "0      EXAMNESTI INDIA HEAD TRI TO PAINT GUJARATI CO...        0  geopolitics\n",
       "1      IS IT TRUE SMRITI IRANI LASH OUT AT ARVIND KE...        0  geopolitics\n",
       "2      TAMIL NADU BJP CHIEF K ANNAMALAI 5000 OTHER B...        3       sports\n",
       "3      HYDERABAD OPEN CHARMINAR MOSQU FOR NAMAZ BHAG...        0  geopolitics\n",
       "4      MAHARASHTRA NCP WORKER JOIN ISLAMIST TO OUTRA...        3       sports\n",
       "...                                                 ...      ...          ...\n",
       "1971   UTTAR PRADESH ACTION EXPECT AGAINST  NISHAD P...        1     politics\n",
       "1972   MAHARASHTRA POLIC INSPECTOR UNKNOWINGLI DISRE...        1     politics\n",
       "1973   CONGRESS PARTI TARGET MODI GOVT MAKE SIX CLAI...        1     politics\n",
       "1974   NCP SUPREMO SHARAD PAWAR SAY SEDIT LAW MUST G...        1     politics\n",
       "1975   CAN ARSHDEEP SINGH DEATH BOWL BE INDIA TRUMP ...        1     politics\n",
       "\n",
       "[1976 rows x 3 columns]"
      ]
     },
     "execution_count": 17,
     "metadata": {},
     "output_type": "execute_result"
    }
   ],
   "source": [
    "Q"
   ]
  },
  {
   "cell_type": "code",
   "execution_count": null,
   "id": "53dc5ac6",
   "metadata": {},
   "outputs": [],
   "source": []
  }
 ],
 "metadata": {
  "kernelspec": {
   "display_name": "Python 3 (ipykernel)",
   "language": "python",
   "name": "python3"
  },
  "language_info": {
   "codemirror_mode": {
    "name": "ipython",
    "version": 3
   },
   "file_extension": ".py",
   "mimetype": "text/x-python",
   "name": "python",
   "nbconvert_exporter": "python",
   "pygments_lexer": "ipython3",
   "version": "3.9.7"
  }
 },
 "nbformat": 4,
 "nbformat_minor": 5
}
